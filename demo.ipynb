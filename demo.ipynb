{
 "cells": [
  {
   "cell_type": "code",
   "execution_count": 2,
   "id": "initial_id",
   "metadata": {
    "collapsed": true,
    "ExecuteTime": {
     "end_time": "2024-04-23T15:22:19.080951700Z",
     "start_time": "2024-04-23T15:22:19.067952500Z"
    }
   },
   "outputs": [],
   "source": [
    "from shaprio_wilk import ResNormCheck\n",
    "\n",
    "import numpy as np\n",
    "import statsmodels.api as sm"
   ]
  },
  {
   "cell_type": "code",
   "execution_count": null,
   "outputs": [],
   "source": [
    "# 生成随机漫步数据\n",
    "np.random.seed(0)\n",
    "data = np.random.randn(100).cumsum()\n",
    "\n",
    "# 拟合模型\n",
    "model = sm.tsa.ARIMA(data, order=(1, 0, 1))\n",
    "results = model.fit()\n",
    "\n",
    "# 获取残差\n",
    "residuals = results.resid\n",
    "\n",
    "# 绘制图像\n",
    "ResNormCheck(residuals, save=False)"
   ],
   "metadata": {
    "collapsed": false
   },
   "id": "d4e3a88cb8e16f84"
  }
 ],
 "metadata": {
  "kernelspec": {
   "display_name": "Python 3",
   "language": "python",
   "name": "python3"
  },
  "language_info": {
   "codemirror_mode": {
    "name": "ipython",
    "version": 2
   },
   "file_extension": ".py",
   "mimetype": "text/x-python",
   "name": "python",
   "nbconvert_exporter": "python",
   "pygments_lexer": "ipython2",
   "version": "2.7.6"
  }
 },
 "nbformat": 4,
 "nbformat_minor": 5
}
